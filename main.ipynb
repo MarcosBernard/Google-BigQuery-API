{
 "cells": [
  {
   "cell_type": "markdown",
   "metadata": {},
   "source": [
    "Gestión de Tablas Google Big Query <br>\n",
    "https://www.youtube.com/watch?v=Z5Xr3DjgrLM"
   ]
  },
  {
   "cell_type": "markdown",
   "metadata": {},
   "source": [
    "> Librerías"
   ]
  },
  {
   "cell_type": "code",
   "execution_count": 1,
   "metadata": {},
   "outputs": [],
   "source": [
    "import pandas as pd\n",
    "from google.cloud import bigquery\n",
    "from google.oauth2 import service_account"
   ]
  },
  {
   "cell_type": "markdown",
   "metadata": {},
   "source": [
    "> Cargando CSV"
   ]
  },
  {
   "cell_type": "code",
   "execution_count": 2,
   "metadata": {},
   "outputs": [],
   "source": [
    "categories = pd.read_csv(\"./MOCK_DATA.csv\")"
   ]
  },
  {
   "cell_type": "markdown",
   "metadata": {},
   "source": [
    "> Creando Datasets en Google BigQuery con replace"
   ]
  },
  {
   "cell_type": "code",
   "execution_count": 5,
   "metadata": {},
   "outputs": [],
   "source": [
    "key_path = './GBQ.json'\n",
    "credentials = service_account.Credentials.from_service_account_file(\n",
    "    key_path, scopes = [\"https://www.googleapis.com/auth/cloud-platform\"]\n",
    ")"
   ]
  },
  {
   "cell_type": "code",
   "execution_count": 7,
   "metadata": {},
   "outputs": [
    {
     "name": "stderr",
     "output_type": "stream",
     "text": [
      "100%|██████████| 1/1 [00:00<00:00, 985.50it/s]\n"
     ]
    }
   ],
   "source": [
    "categories.to_gbq(\n",
    "    credentials=credentials,\n",
    "    destination_table='bigquery_tips.categories',\n",
    "    if_exists='replace'\n",
    ")"
   ]
  },
  {
   "cell_type": "markdown",
   "metadata": {},
   "source": [
    "> Enviando datos para Google BigQuery con append"
   ]
  },
  {
   "cell_type": "code",
   "execution_count": 14,
   "metadata": {},
   "outputs": [
    {
     "data": {
      "text/html": [
       "<div>\n",
       "<style scoped>\n",
       "    .dataframe tbody tr th:only-of-type {\n",
       "        vertical-align: middle;\n",
       "    }\n",
       "\n",
       "    .dataframe tbody tr th {\n",
       "        vertical-align: top;\n",
       "    }\n",
       "\n",
       "    .dataframe thead th {\n",
       "        text-align: right;\n",
       "    }\n",
       "</style>\n",
       "<table border=\"1\" class=\"dataframe\">\n",
       "  <thead>\n",
       "    <tr style=\"text-align: right;\">\n",
       "      <th></th>\n",
       "      <th>id</th>\n",
       "      <th>first_name</th>\n",
       "      <th>last_name</th>\n",
       "      <th>email</th>\n",
       "      <th>gender</th>\n",
       "      <th>ip_address</th>\n",
       "    </tr>\n",
       "  </thead>\n",
       "  <tbody>\n",
       "    <tr>\n",
       "      <th>0</th>\n",
       "      <td>201</td>\n",
       "      <td>Pía</td>\n",
       "      <td>Ruiz</td>\n",
       "      <td>mpiaruiz@gmail.com</td>\n",
       "      <td>Female</td>\n",
       "      <td>127.0.0.1</td>\n",
       "    </tr>\n",
       "    <tr>\n",
       "      <th>1</th>\n",
       "      <td>202</td>\n",
       "      <td>Franco</td>\n",
       "      <td>Pietrokovsky</td>\n",
       "      <td>francodavidpietrokovsky@gmail.com</td>\n",
       "      <td>Male</td>\n",
       "      <td>127.0.0.1</td>\n",
       "    </tr>\n",
       "    <tr>\n",
       "      <th>2</th>\n",
       "      <td>203</td>\n",
       "      <td>Joaquin</td>\n",
       "      <td>Gomez</td>\n",
       "      <td>gomezjoaquin83@gmail.com</td>\n",
       "      <td>Male</td>\n",
       "      <td>127.0.0.1</td>\n",
       "    </tr>\n",
       "    <tr>\n",
       "      <th>3</th>\n",
       "      <td>204</td>\n",
       "      <td>Marcos</td>\n",
       "      <td>Calixto</td>\n",
       "      <td>marcoscalixto92@gmail.com</td>\n",
       "      <td>Male</td>\n",
       "      <td>127.0.0.1</td>\n",
       "    </tr>\n",
       "  </tbody>\n",
       "</table>\n",
       "</div>"
      ],
      "text/plain": [
       "    id first_name     last_name                              email  gender  \\\n",
       "0  201        Pía          Ruiz                 mpiaruiz@gmail.com  Female   \n",
       "1  202     Franco  Pietrokovsky  francodavidpietrokovsky@gmail.com    Male   \n",
       "2  203    Joaquin         Gomez           gomezjoaquin83@gmail.com    Male   \n",
       "3  204     Marcos       Calixto          marcoscalixto92@gmail.com    Male   \n",
       "\n",
       "  ip_address  \n",
       "0  127.0.0.1  \n",
       "1  127.0.0.1  \n",
       "2  127.0.0.1  \n",
       "3  127.0.0.1  "
      ]
     },
     "execution_count": 14,
     "metadata": {},
     "output_type": "execute_result"
    }
   ],
   "source": [
    "New_group = pd.DataFrame(\n",
    "    {\n",
    "        'id': [201,202,203,204],\n",
    "        'first_name': ['Pía','Franco','Joaquin','Marcos'],\n",
    "        'last_name': ['Ruiz','Pietrokovsky','Gomez','Calixto'],\n",
    "        'email': ['mpiaruiz@gmail.com','francodavidpietrokovsky@gmail.com','gomezjoaquin83@gmail.com','marcoscalixto92@gmail.com'],\n",
    "        'gender': ['Female','Male','Male','Male'],\n",
    "        'ip_address': ['127.0.0.1','127.0.0.1','127.0.0.1','127.0.0.1']\n",
    "    }\n",
    ")\n",
    "New_group"
   ]
  },
  {
   "cell_type": "code",
   "execution_count": 15,
   "metadata": {},
   "outputs": [
    {
     "name": "stderr",
     "output_type": "stream",
     "text": [
      "100%|██████████| 1/1 [00:00<00:00, 956.95it/s]\n"
     ]
    }
   ],
   "source": [
    "New_group.to_gbq(\n",
    "    credentials=credentials,\n",
    "    destination_table='bigquery_tips.categories',\n",
    "    if_exists='append'\n",
    ")"
   ]
  },
  {
   "cell_type": "markdown",
   "metadata": {},
   "source": [
    "<hr>\n",
    "\n",
    "Querys Google Big Query<br>\n",
    "https://www.youtube.com/watch?v=lLPdRRy7dfE&list=PLOw2tI2CxNcvIR0U6dShR3RXSml6Ooaxj&index=3&t=284s"
   ]
  },
  {
   "cell_type": "markdown",
   "metadata": {},
   "source": [
    "> Librerías"
   ]
  },
  {
   "cell_type": "code",
   "execution_count": 17,
   "metadata": {},
   "outputs": [],
   "source": [
    "import os\n",
    "from google.cloud import bigquery"
   ]
  },
  {
   "cell_type": "markdown",
   "metadata": {},
   "source": [
    "> Credenciales"
   ]
  },
  {
   "cell_type": "code",
   "execution_count": 19,
   "metadata": {},
   "outputs": [],
   "source": [
    "os.environ[\"GOOGLE_APPLICATION_CREDENTIALS\"] = \"GBQ.json\"\n",
    "bq = bigquery.Client()"
   ]
  },
  {
   "cell_type": "markdown",
   "metadata": {},
   "source": [
    "> Consultas (querys)"
   ]
  },
  {
   "cell_type": "code",
   "execution_count": 20,
   "metadata": {},
   "outputs": [],
   "source": [
    "sql_query = ''' \n",
    "SELECT * FROM `pf-henry-365404.bigquery_tips.categories` \n",
    "ORDER BY id DESC\n",
    "LIMIT 4;\n",
    "'''"
   ]
  },
  {
   "cell_type": "code",
   "execution_count": 21,
   "metadata": {},
   "outputs": [],
   "source": [
    "query_job = bq.query(sql_query)"
   ]
  },
  {
   "cell_type": "code",
   "execution_count": 22,
   "metadata": {},
   "outputs": [
    {
     "data": {
      "text/html": [
       "<div>\n",
       "<style scoped>\n",
       "    .dataframe tbody tr th:only-of-type {\n",
       "        vertical-align: middle;\n",
       "    }\n",
       "\n",
       "    .dataframe tbody tr th {\n",
       "        vertical-align: top;\n",
       "    }\n",
       "\n",
       "    .dataframe thead th {\n",
       "        text-align: right;\n",
       "    }\n",
       "</style>\n",
       "<table border=\"1\" class=\"dataframe\">\n",
       "  <thead>\n",
       "    <tr style=\"text-align: right;\">\n",
       "      <th></th>\n",
       "      <th>id</th>\n",
       "      <th>first_name</th>\n",
       "      <th>last_name</th>\n",
       "      <th>email</th>\n",
       "      <th>gender</th>\n",
       "      <th>ip_address</th>\n",
       "    </tr>\n",
       "  </thead>\n",
       "  <tbody>\n",
       "    <tr>\n",
       "      <th>0</th>\n",
       "      <td>204</td>\n",
       "      <td>Marcos</td>\n",
       "      <td>Calixto</td>\n",
       "      <td>marcoscalixto92@gmail.com</td>\n",
       "      <td>Male</td>\n",
       "      <td>127.0.0.1</td>\n",
       "    </tr>\n",
       "    <tr>\n",
       "      <th>1</th>\n",
       "      <td>203</td>\n",
       "      <td>Joaquin</td>\n",
       "      <td>Gomez</td>\n",
       "      <td>gomezjoaquin83@gmail.com</td>\n",
       "      <td>Male</td>\n",
       "      <td>127.0.0.1</td>\n",
       "    </tr>\n",
       "    <tr>\n",
       "      <th>2</th>\n",
       "      <td>202</td>\n",
       "      <td>Franco</td>\n",
       "      <td>Pietrokovsky</td>\n",
       "      <td>francodavidpietrokovsky@gmail.com</td>\n",
       "      <td>Male</td>\n",
       "      <td>127.0.0.1</td>\n",
       "    </tr>\n",
       "    <tr>\n",
       "      <th>3</th>\n",
       "      <td>201</td>\n",
       "      <td>Pía</td>\n",
       "      <td>Ruiz</td>\n",
       "      <td>mpiaruiz@gmail.com</td>\n",
       "      <td>Female</td>\n",
       "      <td>127.0.0.1</td>\n",
       "    </tr>\n",
       "  </tbody>\n",
       "</table>\n",
       "</div>"
      ],
      "text/plain": [
       "    id first_name     last_name                              email  gender  \\\n",
       "0  204     Marcos       Calixto          marcoscalixto92@gmail.com    Male   \n",
       "1  203    Joaquin         Gomez           gomezjoaquin83@gmail.com    Male   \n",
       "2  202     Franco  Pietrokovsky  francodavidpietrokovsky@gmail.com    Male   \n",
       "3  201        Pía          Ruiz                 mpiaruiz@gmail.com  Female   \n",
       "\n",
       "  ip_address  \n",
       "0  127.0.0.1  \n",
       "1  127.0.0.1  \n",
       "2  127.0.0.1  \n",
       "3  127.0.0.1  "
      ]
     },
     "execution_count": 22,
     "metadata": {},
     "output_type": "execute_result"
    }
   ],
   "source": [
    "query_job.to_dataframe()"
   ]
  }
 ],
 "metadata": {
  "kernelspec": {
   "display_name": "Python 3.10.6 64-bit",
   "language": "python",
   "name": "python3"
  },
  "language_info": {
   "codemirror_mode": {
    "name": "ipython",
    "version": 3
   },
   "file_extension": ".py",
   "mimetype": "text/x-python",
   "name": "python",
   "nbconvert_exporter": "python",
   "pygments_lexer": "ipython3",
   "version": "3.10.6"
  },
  "orig_nbformat": 4,
  "vscode": {
   "interpreter": {
    "hash": "26de051ba29f2982a8de78e945f0abaf191376122a1563185a90213a26c5da77"
   }
  }
 },
 "nbformat": 4,
 "nbformat_minor": 2
}
